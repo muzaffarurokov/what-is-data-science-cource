{
 "cells": [
  {
   "cell_type": "code",
   "execution_count": 1,
   "id": "1eb82acb-76f9-4ab6-8bcd-546a92837721",
   "metadata": {},
   "outputs": [],
   "source": [
    "#Module 6 excercises"
   ]
  },
  {
   "cell_type": "code",
   "execution_count": 2,
   "id": "996502ed-edb2-4cce-99d7-81029a9d317f",
   "metadata": {},
   "outputs": [],
   "source": [
    "# Data Science Tools and Ecosystem"
   ]
  },
  {
   "cell_type": "code",
   "execution_count": 4,
   "id": "7cf4a088-0b80-444f-a147-5ed30f4f5e26",
   "metadata": {},
   "outputs": [],
   "source": [
    "# In this notebook, I will summarize some of the key tools, languages, and libraries used in the field of data science."
   ]
  },
  {
   "cell_type": "markdown",
   "id": "ad3b415b-a773-42f8-8e1a-ff20eaa99eb8",
   "metadata": {},
   "source": [
    "## Some of the popular languages that Data Scientists use are:\n",
    "\n",
    "1. Python  \n",
    "2. R  \n",
    "3. SQL  \n",
    "4. Julia  \n",
    "5. Scala  "
   ]
  },
  {
   "cell_type": "markdown",
   "id": "e5d66139-9b3b-4529-beba-a6e784e74b27",
   "metadata": {},
   "source": [
    "## Some of the commonly used libraries used by Data Scientists include:\n",
    "\n",
    "1. Pandas  \n",
    "2. NumPy  \n",
    "3. Matplotlib  \n",
    "4. Scikit-learn  \n",
    "5. TensorFlow  "
   ]
  },
  {
   "cell_type": "markdown",
   "id": "ba54adf6-9dd5-433f-a8a8-2c1507735d0c",
   "metadata": {},
   "source": [
    "## Data Science Tools\n",
    "\n",
    "| Tool           | Category        | Description                    |\n",
    "|----------------|----------------|--------------------------------|\n",
    "| Jupyter Notebook | IDE/Notebook   | Interactive environment        |\n",
    "| RStudio        | IDE             | IDE for R                      |\n",
    "| Apache Spark   | Big Data Tool   | Distributed data processing    |"
   ]
  },
  {
   "cell_type": "markdown",
   "id": "d5caebbe-cb38-48a7-82ee-3d5e6a53901f",
   "metadata": {},
   "source": [
    "### Below are examples of evaluating arithmetic expressions in Python."
   ]
  },
  {
   "cell_type": "code",
   "execution_count": 10,
   "id": "8c47f469-7246-4969-98b4-a3eeb8bd9c1f",
   "metadata": {},
   "outputs": [
    {
     "data": {
      "text/plain": [
       "17"
      ]
     },
     "execution_count": 10,
     "metadata": {},
     "output_type": "execute_result"
    }
   ],
   "source": [
    "# This is a simple arithmetic expression to multiply then add integers\n",
    "(3 * 4) + 5"
   ]
  },
  {
   "cell_type": "code",
   "execution_count": 12,
   "id": "08b8d349-6b00-432a-bf1f-be48217b696d",
   "metadata": {},
   "outputs": [
    {
     "data": {
      "text/plain": [
       "3.3333333333333335"
      ]
     },
     "execution_count": 12,
     "metadata": {},
     "output_type": "execute_result"
    }
   ],
   "source": [
    "# This will convert 200 minutes to hours by dividing by 60\n",
    "200 / 60"
   ]
  },
  {
   "cell_type": "markdown",
   "id": "2dc2cee3-e4f8-4814-9f82-3d840162e533",
   "metadata": {},
   "source": [
    "## Objectives:\n",
    "\n",
    "- List popular languages for Data Science\n",
    "- List common libraries used in Data Science\n",
    "- Use arithmetic expressions in code cells\n",
    "- Share notebook through GitHub"
   ]
  },
  {
   "cell_type": "markdown",
   "id": "f4082743-6746-4ec1-a01a-11a60aa92957",
   "metadata": {},
   "source": [
    "**Author**: Muzaffar Urokov"
   ]
  }
 ],
 "metadata": {
  "kernelspec": {
   "display_name": "Python [conda env:base] *",
   "language": "python",
   "name": "conda-base-py"
  },
  "language_info": {
   "codemirror_mode": {
    "name": "ipython",
    "version": 3
   },
   "file_extension": ".py",
   "mimetype": "text/x-python",
   "name": "python",
   "nbconvert_exporter": "python",
   "pygments_lexer": "ipython3",
   "version": "3.12.7"
  }
 },
 "nbformat": 4,
 "nbformat_minor": 5
}
